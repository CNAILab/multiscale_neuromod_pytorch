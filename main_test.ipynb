{
 "cells": [
  {
   "cell_type": "code",
   "execution_count": 1,
   "metadata": {},
   "outputs": [
    {
     "name": "stderr",
     "output_type": "stream",
     "text": [
      "2021-12-08 12:30:17.469876: W tensorflow/stream_executor/platform/default/dso_loader.cc:64] Could not load dynamic library 'libcudart.so.11.0'; dlerror: libcudart.so.11.0: cannot open shared object file: No such file or directory; LD_LIBRARY_PATH: /usr/local/lib:/usr/local/cuda/lib:/usr/local/cuda/lib64:\n",
      "2021-12-08 12:30:17.469902: I tensorflow/stream_executor/cuda/cudart_stub.cc:29] Ignore above cudart dlerror if you do not have a GPU set up on your machine.\n"
     ]
    }
   ],
   "source": [
    "import collections\n",
    "import utils\n",
    "import model\n",
    "import torch\n",
    "import tensorflow as tf\n",
    "from dataloader import SupervisedDataset\n",
    "from torch.utils.data import DataLoader\n",
    "import pandas as pd\n",
    "\n",
    "## initial config\n",
    "N_EPOCHS = 1000\n",
    "STEPS_PER_EPOCH = 100\n",
    "\n",
    "NH_LSTM = 128\n",
    "NH_BOTTLENECK = 256\n",
    "\n",
    "ENV_SIZE = 2.2\n",
    "BATCH_SIZE = 1024\n",
    "GRAD_CLIPPING = 1e-5\n",
    "SEED = 9101\n",
    "N_PC = [256]\n",
    "N_HDC = [12]\n",
    "# Change Dropout to the required format\n",
    "BOTTLENECK_DROPOUT = [0.5]\n",
    "WEIGHT_DECAY = 1e-5\n",
    "LR = 1e-5\n",
    "MOMENTUM = 0.9\n",
    "TIME = 50\n",
    "PAUSE_TIME = None\n",
    "SAVE_LOC = 'experiments/'\n",
    "\n",
    "# path = 'data/tf-records/'\n",
    "path = 'data/'\n",
    "DatasetInfo = collections.namedtuple(\n",
    "    'DatasetInfo', ['basepath', 'size', 'sequence_length', 'coord_range'])\n",
    "\n",
    "_DATASETS = dict(\n",
    "    square_room=DatasetInfo(\n",
    "        basepath='square_room_100steps_2.2m_1000000',\n",
    "        size=100,\n",
    "        sequence_length=100,\n",
    "        coord_range=((-1.1, 1.1), (-1.1, 1.1))), )\n",
    "\n",
    "ds_info = _DATASETS['square_room']\n",
    "\n",
    "feature_map = {\n",
    "    'init_pos':\n",
    "        tf.io.FixedLenFeature(shape=[2], dtype=tf.float32),\n",
    "    'init_hd':\n",
    "        tf.io.FixedLenFeature(shape=[1], dtype=tf.float32),\n",
    "    'ego_vel':\n",
    "        tf.io.FixedLenFeature(\n",
    "            shape=[ds_info.sequence_length, 3],\n",
    "            dtype=tf.float32),\n",
    "    'target_pos':\n",
    "        tf.io.FixedLenFeature(\n",
    "            shape=[ds_info.sequence_length, 2],\n",
    "            dtype=tf.float32),\n",
    "    'target_hd':\n",
    "        tf.io.FixedLenFeature(\n",
    "            shape=[ds_info.sequence_length, 1],\n",
    "            dtype=tf.float32),\n",
    "}\n",
    "\n",
    "data_params = {\n",
    "    'batch_size': BATCH_SIZE,\n",
    "    'shuffle': True,\n",
    "    'num_workers': 4,\n",
    "    'pin_memory': True}\n",
    "test_params = {\n",
    "    'batch_size': 100,\n",
    "    'shuffle': True,\n",
    "    'num_workers': 6}"
   ]
  },
  {
   "cell_type": "code",
   "execution_count": 2,
   "metadata": {},
   "outputs": [],
   "source": [
    "Loss_Function = torch.nn.MultiLabelSoftMarginLoss(reduction='none')\n",
    "\n",
    "def softmax_crossentropy_with_logits(labels, logits):\n",
    "    labels_2d = labels.reshape((-1, labels.size()[2]))\n",
    "    logits_2d = logits.reshape((-1, logits.size()[2]))\n",
    "    return Loss_Function(logits_2d, labels_2d)\n"
   ]
  },
  {
   "cell_type": "code",
   "execution_count": 3,
   "metadata": {},
   "outputs": [
    {
     "name": "stderr",
     "output_type": "stream",
     "text": [
      "2021-12-08 12:30:18.741401: I tensorflow/stream_executor/cuda/cuda_gpu_executor.cc:939] successful NUMA node read from SysFS had negative value (-1), but there must be at least one NUMA node, so returning NUMA node zero\n",
      "2021-12-08 12:30:18.742002: W tensorflow/stream_executor/platform/default/dso_loader.cc:64] Could not load dynamic library 'libcudart.so.11.0'; dlerror: libcudart.so.11.0: cannot open shared object file: No such file or directory; LD_LIBRARY_PATH: /usr/local/lib:/usr/local/cuda/lib:/usr/local/cuda/lib64:\n",
      "2021-12-08 12:30:18.742042: W tensorflow/stream_executor/platform/default/dso_loader.cc:64] Could not load dynamic library 'libcublas.so.11'; dlerror: libcublas.so.11: cannot open shared object file: No such file or directory; LD_LIBRARY_PATH: /usr/local/lib:/usr/local/cuda/lib:/usr/local/cuda/lib64:\n",
      "2021-12-08 12:30:18.742078: W tensorflow/stream_executor/platform/default/dso_loader.cc:64] Could not load dynamic library 'libcublasLt.so.11'; dlerror: libcublasLt.so.11: cannot open shared object file: No such file or directory; LD_LIBRARY_PATH: /usr/local/lib:/usr/local/cuda/lib:/usr/local/cuda/lib64:\n",
      "2021-12-08 12:30:18.743433: W tensorflow/stream_executor/platform/default/dso_loader.cc:64] Could not load dynamic library 'libcusolver.so.11'; dlerror: libcusolver.so.11: cannot open shared object file: No such file or directory; LD_LIBRARY_PATH: /usr/local/lib:/usr/local/cuda/lib:/usr/local/cuda/lib64:\n",
      "2021-12-08 12:30:18.743472: W tensorflow/stream_executor/platform/default/dso_loader.cc:64] Could not load dynamic library 'libcusparse.so.11'; dlerror: libcusparse.so.11: cannot open shared object file: No such file or directory; LD_LIBRARY_PATH: /usr/local/lib:/usr/local/cuda/lib:/usr/local/cuda/lib64:\n",
      "2021-12-08 12:30:18.743510: W tensorflow/stream_executor/platform/default/dso_loader.cc:64] Could not load dynamic library 'libcudnn.so.8'; dlerror: libcudnn.so.8: cannot open shared object file: No such file or directory; LD_LIBRARY_PATH: /usr/local/lib:/usr/local/cuda/lib:/usr/local/cuda/lib64:\n",
      "2021-12-08 12:30:18.743516: W tensorflow/core/common_runtime/gpu/gpu_device.cc:1850] Cannot dlopen some GPU libraries. Please make sure the missing libraries mentioned above are installed properly if you would like to use GPU. Follow the guide at https://www.tensorflow.org/install/gpu for how to download and setup the required libraries for your platform.\n",
      "Skipping registering GPU devices...\n",
      "2021-12-08 12:30:18.743832: I tensorflow/core/platform/cpu_feature_guard.cc:151] This TensorFlow binary is optimized with oneAPI Deep Neural Network Library (oneDNN) to use the following CPU instructions in performance-critical operations:  AVX2 FMA\n",
      "To enable them in other operations, rebuild TensorFlow with the appropriate compiler flags.\n"
     ]
    }
   ],
   "source": [
    "data_dic = utils.load_datadic_from_tfrecords(path, _DATASETS, 'square_room', feature_map)"
   ]
  },
  {
   "cell_type": "code",
   "execution_count": 4,
   "metadata": {},
   "outputs": [
    {
     "name": "stdout",
     "output_type": "stream",
     "text": [
      "Using device: cuda:0\n"
     ]
    }
   ],
   "source": [
    "use_cuda = torch.cuda.is_available()\n",
    "device = torch.device('cuda:0' if use_cuda else 'cpu')\n",
    "print('Using device:', device)"
   ]
  },
  {
   "cell_type": "code",
   "execution_count": 5,
   "metadata": {},
   "outputs": [],
   "source": [
    "dataset = SupervisedDataset(data_dic)\n",
    "dataloader = DataLoader(dataset, **data_params)"
   ]
  },
  {
   "cell_type": "code",
   "execution_count": 6,
   "metadata": {},
   "outputs": [],
   "source": [
    "place_cell_ensembles = utils.get_place_cell_ensembles(\n",
    "        env_size=ENV_SIZE,\n",
    "        neurons_seed=SEED,\n",
    "        targets_type='softmax',\n",
    "        lstm_init_type='softmax',\n",
    "        n_pc=N_PC,\n",
    "        pc_scale=[0.01],\n",
    "        device=device)\n",
    "\n",
    "head_direction_ensembles = utils.get_head_direction_ensembles(\n",
    "    neurons_seed=SEED,\n",
    "    targets_type='softmax',\n",
    "    lstm_init_type='softmax',\n",
    "    n_hdc=N_HDC,\n",
    "    hdc_concentration=[20.],\n",
    "    device=device)\n",
    "\n",
    "target_ensembles = place_cell_ensembles + head_direction_ensembles\n",
    "\n",
    "# Defining the model and getting its parameters\n",
    "gridtorchmodel = model.GridTorch(target_ensembles, NH_LSTM, NH_BOTTLENECK,\n",
    "                                 dropoutrates_bottleneck=BOTTLENECK_DROPOUT).to(device)\n",
    "params = gridtorchmodel.parameters()\n",
    "\n",
    "# Optimizer\n",
    "optimizer = torch.optim.RMSprop(params,\n",
    "                                lr=LR,\n",
    "                                momentum=MOMENTUM,\n",
    "                                alpha=0.9,\n",
    "                                eps=1e-10)"
   ]
  },
  {
   "cell_type": "code",
   "execution_count": 8,
   "metadata": {},
   "outputs": [
    {
     "name": "stdout",
     "output_type": "stream",
     "text": [
      "Epoch    0:  Loss:0.29\n",
      "1min 22s ± 0 ns per loop (mean ± std. dev. of 1 run, 1 loop each)\n"
     ]
    }
   ],
   "source": [
    "%%timeit -r 1 -n 1\n",
    "for epoch in range(1):\n",
    "    gridtorchmodel.train()\n",
    "    step = 0\n",
    "    losses = []\n",
    "\n",
    "    for X, y in dataloader:\n",
    "        optimizer.zero_grad()\n",
    "\n",
    "        init_pos, init_hd, ego_vel = X\n",
    "        target_pos, target_hd = y\n",
    "\n",
    "        init_pos = init_pos.to(device)\n",
    "        init_hd = init_hd.to(device)\n",
    "        ego_vel = torch.swapaxes(ego_vel.to(device), 0, 1)\n",
    "\n",
    "        target_pos = target_pos.to(device)\n",
    "        target_hd = target_hd.to(device)\n",
    "\n",
    "        # Getting initial conditions\n",
    "        init_conds = utils.encode_initial_conditions(init_pos, init_hd, place_cell_ensembles,\n",
    "                                                     head_direction_ensembles)\n",
    "\n",
    "        # Getting ensemble targets\n",
    "        ensemble_targets = utils.encode_targets(target_pos, target_hd, place_cell_ensembles,\n",
    "                                                head_direction_ensembles)\n",
    "        \n",
    "        # Running through the model\n",
    "        outs = gridtorchmodel(ego_vel, init_conds)\n",
    "\n",
    "        # Collecting different parts of the output\n",
    "        logits_hd, logits_pc, bottleneck_acts, rnn_states, rnn_cells = outs\n",
    "        # print(f'hd logits size: {logits_hd.size()}')\n",
    "        # print(f'pc logits size: {logits_pc.size()}')\n",
    "        # print()\n",
    "        # print(f'hd targets size: {ensemble_targets[0].size()}')\n",
    "        # print(f'pc targets size: {ensemble_targets[1].size()}')\n",
    "        #\n",
    "        # print(ensemble_targets[0].sum(axis=-1) == 1)\n",
    "\n",
    "        pc_loss = softmax_crossentropy_with_logits(labels=ensemble_targets[0], logits=logits_pc)\n",
    "        hd_loss = softmax_crossentropy_with_logits(labels=ensemble_targets[1], logits=logits_hd)\n",
    "\n",
    "        total_loss = pc_loss + hd_loss\n",
    "        train_loss = total_loss.mean()\n",
    "\n",
    "        # weight decay\n",
    "        train_loss += gridtorchmodel.l2_loss * WEIGHT_DECAY\n",
    "\n",
    "        train_loss.backward()\n",
    "\n",
    "        # Gradient Clipping\n",
    "        torch.nn.utils.clip_grad_value_(params, GRAD_CLIPPING)\n",
    "\n",
    "        optimizer.step()\n",
    "\n",
    "        losses.append(train_loss.clone().item())\n",
    "        # print('Loss:', losses[-1])\n",
    "\n",
    "        # if step > STEPS_PER_EPOCH:\n",
    "        #     break\n",
    "        # step += 1\n",
    "\n",
    "    # Logging and evaluating\n",
    "    epoch_loss_mean = torch.Tensor(losses).mean()\n",
    "    print(f'Epoch {epoch:4d}:  Loss:{epoch_loss_mean:4.2f}')"
   ]
  },
  {
   "cell_type": "code",
   "execution_count": null,
   "metadata": {},
   "outputs": [],
   "source": [
    "print('done')"
   ]
  },
  {
   "cell_type": "code",
   "execution_count": null,
   "metadata": {},
   "outputs": [],
   "source": []
  }
 ],
 "metadata": {
  "kernelspec": {
   "display_name": "Python 3 (ipykernel)",
   "language": "python",
   "name": "python3"
  },
  "language_info": {
   "codemirror_mode": {
    "name": "ipython",
    "version": 3
   },
   "file_extension": ".py",
   "mimetype": "text/x-python",
   "name": "python",
   "nbconvert_exporter": "python",
   "pygments_lexer": "ipython3",
   "version": "3.8.3"
  }
 },
 "nbformat": 4,
 "nbformat_minor": 4
}
